{
 "cells": [
  {
   "cell_type": "code",
   "execution_count": null,
   "id": "15fc21f3",
   "metadata": {},
   "outputs": [],
   "source": [
    "import numpy as np\n",
    "import math\n",
    "import pandas as pd\n",
    "import matplotlib.pyplot as plt\n",
    "%matplotlib inline\n",
    "import tensorflow as tf\n",
    "import seaborn as sns\n",
    "import random\n",
    "from sklearn.preprocessing import LabelEncoder\n",
    "from sklearn.model_selection import train_test_split\n",
    "from sklearn.preprocessing import MinMaxScaler\n",
    "from sklearn.model_selection import GridSearchCV, RandomizedSearchCV\n",
    "from sklearn.tree import DecisionTreeClassifier\n",
    "from sklearn.metrics import confusion_matrix, ConfusionMatrixDisplay\n",
    "from sklearn import metrics\n",
    "from sklearn.model_selection import cross_validate\n",
    "from sklearn.ensemble import RandomForestClassifier\n",
    "from sklearn.model_selection import KFold\n",
    "from sklearn.metrics import accuracy_score\n",
    "from sklearn import datasets\n",
    "from sklearn import tree\n",
    "from sklearn.decomposition import PCA\n",
    "import keras\n",
    "from keras.models import Sequential\n",
    "from tensorflow.keras import layers\n",
    "from keras.layers import Dense\n",
    "from keras.layers import Dropout\n",
    "import keras.backend as K\n",
    "from tensorflow.keras.wrappers.scikit_learn import KerasClassifier\n",
    "import visualkeras\n",
    "from sklearn.tree import export_graphviz\n",
    "import graphviz"
   ]
  },
  {
   "cell_type": "code",
   "execution_count": null,
   "id": "c1f0e7ce",
   "metadata": {},
   "outputs": [],
   "source": [
    "asdData = pd.read_csv('dataset.csv', header = None)\n",
    "asdData.columns = [\"A1\",\"A2\",\"A3\",\"A4\",\"A5\",\"A6\",\"A7\",\"A8\",\"A9\",\"A10\",\"age\",\"gender\",\"ethnicity\",\"jaundice\",\"autism\",\"country\",\"used_app_before\",\"result\",\"age_desc\",\"relation\",\"Class_ASD\"]"
   ]
  },
  {
   "cell_type": "code",
   "execution_count": null,
   "id": "3391483c",
   "metadata": {},
   "outputs": [],
   "source": [
    "asdData.head(5)"
   ]
  },
  {
   "cell_type": "code",
   "execution_count": null,
   "id": "806ddb8c",
   "metadata": {},
   "outputs": [],
   "source": [
    "asdData.info()"
   ]
  },
  {
   "cell_type": "code",
   "execution_count": null,
   "id": "cb60e07b",
   "metadata": {},
   "outputs": [],
   "source": [
    "asdData['A1'] = asdData['A1'].astype(object)\n",
    "asdData['A2'] = asdData['A2'].astype(object)\n",
    "asdData['A3'] = asdData['A3'].astype(object)\n",
    "asdData['A4'] = asdData['A4'].astype(object)\n",
    "asdData['A5'] = asdData['A5'].astype(object)\n",
    "asdData['A6'] = asdData['A6'].astype(object)\n",
    "asdData['A7'] = asdData['A7'].astype(object)\n",
    "asdData['A8'] = asdData['A8'].astype(object)\n",
    "asdData['A9'] = asdData['A9'].astype(object)\n",
    "asdData['A10'] = asdData['A10'].astype(object)"
   ]
  },
  {
   "cell_type": "code",
   "execution_count": null,
   "id": "6cc4f5e8",
   "metadata": {},
   "outputs": [],
   "source": [
    "for col in asdData:\n",
    "    print(asdData[col].unique())"
   ]
  },
  {
   "cell_type": "code",
   "execution_count": null,
   "id": "1843b08e",
   "metadata": {},
   "outputs": [],
   "source": [
    "asdPie = asdData['Class_ASD'].squeeze()\n",
    "labels = ['Not Diagnosed', 'Diagnosed']\n",
    "explode = (0.05, 0.05)\n",
    "asdPie.value_counts(normalize=True).plot.pie(labels = labels, fontsize = 12,\n",
    "                                             ylabel = \"\",\n",
    "                                             autopct='%1.1f%%', pctdistance = 1.2, labeldistance = 1.4, \n",
    "                                             colors =['darkseagreen', 'deepskyblue'],\n",
    "                                             explode = explode,\n",
    "                                             legend = True)\n",
    "plt.title(\"Pie Chart to Show the Proportion of Adults Diagnosed Vs. Those Not Diagnosed\", pad = 20)\n",
    "plt.savefig('asdPie.png')\n",
    "plt.show()"
   ]
  },
  {
   "cell_type": "markdown",
   "id": "1ab02fb8",
   "metadata": {},
   "source": [
    "## Data Cleaning"
   ]
  },
  {
   "cell_type": "code",
   "execution_count": null,
   "id": "fa85fb4f",
   "metadata": {},
   "outputs": [],
   "source": [
    "#Missing Values\n",
    "asdData.drop(asdData[asdData['ethnicity'] == '?'].index, inplace = True)\n",
    "asdData.info()"
   ]
  },
  {
   "cell_type": "code",
   "execution_count": null,
   "id": "aa2c4a62",
   "metadata": {},
   "outputs": [],
   "source": [
    "asdData['age'] = asdData['age'].astype('int64')"
   ]
  },
  {
   "cell_type": "code",
   "execution_count": null,
   "id": "218ff85f",
   "metadata": {},
   "outputs": [],
   "source": [
    "#Outliers\n",
    "#Fixing age\n",
    "asdData = asdData.replace(383,38)\n",
    "summary = asdData.describe()\n",
    "summary = summary.transpose()\n",
    "summary"
   ]
  },
  {
   "cell_type": "code",
   "execution_count": null,
   "id": "c54cebc7",
   "metadata": {},
   "outputs": [],
   "source": [
    "#Duplicates\n",
    "asdData = asdData.replace('others', 'Others')\n",
    "print(asdData['ethnicity'].unique())"
   ]
  },
  {
   "cell_type": "markdown",
   "id": "fa92b0af",
   "metadata": {},
   "source": [
    "## Data Visualisation"
   ]
  },
  {
   "cell_type": "code",
   "execution_count": null,
   "id": "826e7124",
   "metadata": {},
   "outputs": [],
   "source": [
    "#age and gender based on the class\n",
    "sns.set_style(\"darkgrid\")\n",
    "sns.set_palette(\"Set2\")\n",
    "sns.boxplot(x = asdData['gender'],\n",
    "            y = asdData['age'],\n",
    "            hue = asdData['Class_ASD'])\n",
    "plt.title(\"BoxPlot To Show the Age Distribution of Men and Women and Their Class\", pad=20)\n",
    "plt.show()"
   ]
  },
  {
   "cell_type": "code",
   "execution_count": null,
   "id": "28269aa4",
   "metadata": {},
   "outputs": [],
   "source": [
    "sns.set_palette(\"Set2\")\n",
    "sns.boxplot(x = asdData['gender'],\n",
    "            y = asdData['result'],\n",
    "           hue = asdData['Class_ASD'])\n",
    "plt.yticks([0, 1,  2, 3,  4, 5,  6, 7, 8, 9,  10])\n",
    "plt.show()"
   ]
  },
  {
   "cell_type": "code",
   "execution_count": null,
   "id": "78e2340e",
   "metadata": {},
   "outputs": [],
   "source": [
    "sns.countplot(data = asdData, x = 'Class_ASD', hue = 'jaundice')\n",
    "plt.show()"
   ]
  },
  {
   "cell_type": "code",
   "execution_count": null,
   "id": "04a2ad5a",
   "metadata": {},
   "outputs": [],
   "source": [
    "sns.countplot(data = asdData, x = 'Class_ASD', hue = 'autism')\n",
    "plt.show()"
   ]
  },
  {
   "cell_type": "code",
   "execution_count": null,
   "id": "621bf9a2",
   "metadata": {},
   "outputs": [],
   "source": [
    "fig, axs = plt.subplots(2,2, figsize = (10,10))\n",
    "fig.tight_layout(pad=5.0)\n",
    "sns.set_style(\"darkgrid\")\n",
    "sns.set_palette(\"Set2\")\n",
    "sns.boxplot(x = asdData['gender'],\n",
    "            y = asdData['age'],\n",
    "            hue = asdData['Class_ASD'], ax = axs[0,0])\n",
    "axs[0,0].set_title(\"Age Distribution of men and women \\n and Being Classed With ASD\")\n",
    "\n",
    "sns.boxplot(x = asdData['gender'],\n",
    "            y = asdData['result'],\n",
    "           hue = asdData['Class_ASD'], ax = axs[0,1])\n",
    "axs[0,1].set_yticks([0, 1,  2, 3,  4, 5,  6, 7, 8, 9,  10])\n",
    "axs[0,1].set_title(\"Result Distribution of men and women \\n and Being Classed With ASD\")\n",
    "\n",
    "sns.set_palette(\"coolwarm_r\")\n",
    "\n",
    "sns.countplot(data = asdData, x = 'Class_ASD', hue = 'jaundice', ax=axs[1,0])\n",
    "axs[1,0].set_title(\"Relationship Between Jaundice Diagnosis At Birth \\n and Being Classed With ASD\")\n",
    "axs[1,0].legend(title = 'Jaundice',title_fontsize = 12, fontsize=12)\n",
    "\n",
    "sns.set_palette(\"BrBG_r\")\n",
    "\n",
    "sns.countplot(data = asdData, x = 'Class_ASD', hue = 'autism', ax = axs[1,1])\n",
    "axs[1,1].set_title(\"Relationship Between Having a Relative With Autism \\n and Being Classed With ASD\")\n",
    "axs[1,1].legend(loc = 'upper right', title = 'ASD in Family', title_fontsize = 12,  fontsize=12)\n",
    "fig.suptitle(\"Relationships Between Categorical Feature Variables and The Target Class (Classed With ASD)\", fontsize = 16, fontweight = 'bold', y = 1.00)\n",
    "plt.savefig('visulisaitonGrid.png')\n",
    "plt.show()"
   ]
  },
  {
   "cell_type": "markdown",
   "id": "0a665edf",
   "metadata": {},
   "source": [
    "## Test/ Train Split"
   ]
  },
  {
   "cell_type": "code",
   "execution_count": null,
   "id": "85b11d15",
   "metadata": {},
   "outputs": [],
   "source": [
    "#Varibale reduction\n",
    "asdData = asdData.drop(['country', 'used_app_before', 'result', 'age_desc'], axis = 1)"
   ]
  },
  {
   "cell_type": "code",
   "execution_count": null,
   "id": "0e67ae70",
   "metadata": {},
   "outputs": [],
   "source": [
    "asdData = pd.get_dummies(asdData, \n",
    "              columns = [\"A1\", \"A2\", \"A3\", \"A4\", \"A5\", \"A6\", \"A7\", \"A8\", \"A9\", \"A10\",\n",
    "                        \"gender\", \"ethnicity\", \"jaundice\", \"autism\", \"relation\"],\n",
    "             prefix = [\"A1\", \"A2\", \"A3\", \"A4\", \"A5\", \"A6\", \"A7\", \"A8\", \"A9\", \"A10\",\n",
    "                        \"gender\", \"ethnicity\", \"jaundice\", \"autism\", \"relation\"])\n"
   ]
  },
  {
   "cell_type": "code",
   "execution_count": null,
   "id": "77cd55ce",
   "metadata": {},
   "outputs": [],
   "source": [
    "#Normalising Age Data\n",
    "scaler = MinMaxScaler()\n",
    "cols_to_norm = ['age']\n",
    "asdData[cols_to_norm] = scaler.fit_transform(asdData[cols_to_norm])"
   ]
  },
  {
   "cell_type": "code",
   "execution_count": null,
   "id": "b11d7779",
   "metadata": {},
   "outputs": [],
   "source": [
    "random.seed(704)\n",
    "\n",
    "#partition Data into test and train\n",
    "train_dataset = asdData.sample(frac=0.8, random_state=0)\n",
    "test_dataset = asdData.drop(train_dataset.index)\n",
    "\n",
    "#Split response from features\n",
    "trainFeatures = train_dataset.copy()\n",
    "testFeatures = test_dataset.copy()\n",
    "\n",
    "#Labels = response\n",
    "trainLabels = trainFeatures.pop('Class_ASD')\n",
    "testLabels = testFeatures.pop('Class_ASD')"
   ]
  },
  {
   "cell_type": "code",
   "execution_count": null,
   "id": "695fd720",
   "metadata": {},
   "outputs": [],
   "source": [
    "label_encoder = LabelEncoder()\n",
    "trainLabels = label_encoder.fit_transform(trainLabels)"
   ]
  },
  {
   "cell_type": "code",
   "execution_count": null,
   "id": "d92280f1",
   "metadata": {},
   "outputs": [],
   "source": [
    "label_encoder = LabelEncoder()\n",
    "testLabels = label_encoder.fit_transform(testLabels)"
   ]
  },
  {
   "cell_type": "code",
   "execution_count": null,
   "id": "04d372f1",
   "metadata": {},
   "outputs": [],
   "source": [
    "trainFeatures = trainFeatures.values\n",
    "testFeatures = testFeatures.values"
   ]
  },
  {
   "cell_type": "code",
   "execution_count": null,
   "id": "88f3e492",
   "metadata": {},
   "outputs": [],
   "source": [
    "random.seed(704)\n",
    "#Cross Val data split\n",
    "crossX = asdData\n",
    "crossY = crossX.pop('Class_ASD')\n",
    "\n",
    "crossX = crossX.values\n",
    "crossY = crossY.values"
   ]
  },
  {
   "cell_type": "code",
   "execution_count": null,
   "id": "bf03a626",
   "metadata": {},
   "outputs": [],
   "source": [
    "label_encoder = LabelEncoder()\n",
    "crossY = label_encoder.fit_transform(crossY)\n",
    "label_encoder_name_mapping = dict(zip(label_encoder.classes_,\n",
    "                                         label_encoder.transform(label_encoder.classes_)))\n",
    "print(\"Mapping of Label Encoded Classes\", label_encoder_name_mapping, sep=\"\\n\")\n",
    "#print(\"Label Encoded Target Variable\", encoded_y, sep=\"\\n\")"
   ]
  },
  {
   "cell_type": "markdown",
   "id": "89d5d21d",
   "metadata": {},
   "source": [
    "## Decision Tree"
   ]
  },
  {
   "cell_type": "code",
   "execution_count": null,
   "id": "f0d8a41e",
   "metadata": {},
   "outputs": [],
   "source": [
    "#K-fold Cross Validation:\n",
    "def cross_validation(model, _X, _y, _cv=10):\n",
    "    _scoring = ['accuracy', 'precision', 'recall', 'f1']\n",
    "    results = cross_validate(estimator = model,\n",
    "                            X = _X,\n",
    "                            y = _y,\n",
    "                            cv=_cv,\n",
    "                            scoring = _scoring,\n",
    "                            return_train_score=True)\n",
    "    return {\"Training Accuracy scores\": results['train_accuracy'],\n",
    "              \"Mean Training Accuracy\": results['train_accuracy'].mean()*100,\n",
    "              \"Training Precision scores\": results['train_precision'],\n",
    "              \"Mean Training Precision\": results['train_precision'].mean(),\n",
    "              \"Training Recall scores\": results['train_recall'],\n",
    "              \"Mean Training Recall\": results['train_recall'].mean(),\n",
    "              \"Training F1 scores\": results['train_f1'],\n",
    "              \"Mean Training F1 Score\": results['train_f1'].mean(),\n",
    "              \"Validation Accuracy scores\": results['test_accuracy'],\n",
    "              \"Mean Validation Accuracy\": results['test_accuracy'].mean()*100,\n",
    "              \"Validation Precision scores\": results['test_precision'],\n",
    "              \"Mean Validation Precision\": results['test_precision'].mean(),\n",
    "              \"Validation Recall scores\": results['test_recall'],\n",
    "              \"Mean Validation Recall\": results['test_recall'].mean(),\n",
    "              \"Validation F1 scores\": results['test_f1'],\n",
    "              \"Mean Validation F1 Score\": results['test_f1'].mean()\n",
    "              }"
   ]
  },
  {
   "cell_type": "code",
   "execution_count": null,
   "id": "7386620f",
   "metadata": {},
   "outputs": [],
   "source": [
    "#Grouped bar chart to visulise training and validation results in each fold\n",
    "def plot_result(x_label, y_label, plot_title, train_data, val_data):\n",
    "    plt.figure(figsize=(12,6))\n",
    "    labels = [\"1st Fold\", \"2nd Fold\", \"3rd Fold\", \"4th Fold\", \"5th Fold\", \"6th Fold\", \"7th Fold\", \"8th Fold\", \"9th Fold\", \"10th Fold\"]\n",
    "    X_axis = np.arange(len(labels))\n",
    "    ax = plt.gca()\n",
    "    plt.ylim(0.40000, 1)\n",
    "    plt.bar(X_axis-0.2, train_data, 0.4, color='cornflowerblue', label='Training')\n",
    "    plt.bar(X_axis+0.2, val_data, 0.4, color='coral', label='Validation')\n",
    "    plt.title(plot_title, fontsize=20, pad = 20)\n",
    "    plt.xticks(X_axis, labels)\n",
    "    plt.xlabel(x_label, fontsize=14)\n",
    "    plt.ylabel(y_label, fontsize=14)\n",
    "    plt.legend()\n",
    "    plt.grid(True)\n",
    "    plt.show()"
   ]
  },
  {
   "cell_type": "code",
   "execution_count": null,
   "id": "99a6b13a",
   "metadata": {
    "scrolled": true
   },
   "outputs": [],
   "source": [
    "random.seed(704)\n",
    "#Create\n",
    "decTree = DecisionTreeClassifier(criterion = 'entropy')\n",
    "#fit\n",
    "decTreeResults = cross_validation(decTree, crossX, crossY, 10)\n",
    "decTreeResults"
   ]
  },
  {
   "cell_type": "code",
   "execution_count": null,
   "id": "bccf318f",
   "metadata": {
    "scrolled": true
   },
   "outputs": [],
   "source": [
    "plot_result(\"Decision Tree\", \"Accuracy\", \"Accuracy scores in 10-folds\",\n",
    "           decTreeResults[\"Training Accuracy scores\"],\n",
    "           decTreeResults[\"Validation Accuracy scores\"])"
   ]
  },
  {
   "cell_type": "code",
   "execution_count": null,
   "id": "eb9e91f7",
   "metadata": {},
   "outputs": [],
   "source": [
    "path = decTree.cost_complexity_pruning_path(trainFeatures, trainLabels)\n",
    "ccp_alphas, impurities = path.ccp_alphas, path.impurities\n",
    "print(ccp_alphas)"
   ]
  },
  {
   "cell_type": "code",
   "execution_count": null,
   "id": "acdaf4ff",
   "metadata": {},
   "outputs": [],
   "source": [
    "#For each alpha we will append our model to a list\n",
    "decTrees = []\n",
    "for ccp_alpha in ccp_alphas:\n",
    "    decTree = DecisionTreeClassifier(random_state=0, ccp_alpha=ccp_alpha, criterion = 'entropy')\n",
    "    decTree.fit(trainFeatures, trainLabels)\n",
    "    decTrees.append(decTree)"
   ]
  },
  {
   "cell_type": "code",
   "execution_count": null,
   "id": "8d34a7bd",
   "metadata": {},
   "outputs": [],
   "source": [
    "#Plot accuracy vs. Alpha graph - value of alpha for maximum training accuracy\n",
    "train_acc = []\n",
    "test_acc = []\n",
    "for dec in decTrees:\n",
    "    Y_train_pred = dec.predict(trainFeatures)\n",
    "    Y_test_pred = dec.predict(testFeatures)\n",
    "    train_acc.append(accuracy_score(Y_train_pred, trainLabels))\n",
    "    test_acc.append(accuracy_score(Y_test_pred, testLabels))\n",
    "\n",
    "plt.scatter(ccp_alphas, train_acc)\n",
    "plt.scatter(ccp_alphas, test_acc)\n",
    "plt.plot(ccp_alphas, train_acc, label = 'Train Accuracy', drawstyle = \"steps-post\")\n",
    "plt.plot(ccp_alphas, test_acc, label = 'Test Accuracy', drawstyle = \"steps-post\")\n",
    "plt.legend()\n",
    "plt.title(\"Accuracy Vs Alpha\")\n",
    "plt.savefig('Alpha.png')\n",
    "plt.show()"
   ]
  },
  {
   "cell_type": "code",
   "execution_count": null,
   "id": "93f9b2c3",
   "metadata": {},
   "outputs": [],
   "source": [
    "#0.01 alpha with maximum test accuracy alongside optimum training accuracy\n",
    "#Model more generalised and will perform better on unseen data"
   ]
  },
  {
   "cell_type": "code",
   "execution_count": null,
   "id": "7754a757",
   "metadata": {},
   "outputs": [],
   "source": [
    "random.seed(704)\n",
    "decTreeAlph = DecisionTreeClassifier(ccp_alpha =  0.04, criterion = 'entropy')\n",
    "decTreeAlph.fit(trainFeatures, trainLabels)\n",
    "\n",
    "dot_data = tree.export_graphviz(decTreeAlph, out_file=None, \n",
    "                                feature_names=asdData.columns.values[:],  \n",
    "                                class_names=asdData.columns.values[-2:],\n",
    "                                filled=True)\n",
    "\n",
    "# Draw graph\n",
    "graph = graphviz.Source(dot_data, format=\"png\") \n",
    "graph\n"
   ]
  },
  {
   "cell_type": "code",
   "execution_count": null,
   "id": "30a60769",
   "metadata": {},
   "outputs": [],
   "source": [
    "random.seed(704)\n",
    "decTreeResAlph = cross_validation(decTreeAlph, crossX, crossY, 10)\n",
    "decTreeResAlph"
   ]
  },
  {
   "cell_type": "code",
   "execution_count": null,
   "id": "a07e0704",
   "metadata": {},
   "outputs": [],
   "source": [
    "plot_result(\"Pruned Tree\", \"Accuracy\", \"Accuracy scores in 10-folds\",\n",
    "           decTreeResAlph[\"Training Accuracy scores\"],\n",
    "           decTreeResAlph[\"Validation Accuracy scores\"])"
   ]
  },
  {
   "cell_type": "code",
   "execution_count": null,
   "id": "31dfc2d3",
   "metadata": {},
   "outputs": [],
   "source": [
    "UnPrunTrain = [1, 1, 1, 1, 1, 1, 1, 1, 1, 1]\n",
    "PrunTrain = [0.88868613, 0.88868613, 0.88321168, 0.88138686, 0.87773723, 0.88868613, 0.88868613, 0.87408759, 0.87773723, 0.90346084]\n",
    "            \n",
    "UnprunVal = [0.86885246, 0.95081967, 0.85245902, 0.95081967, 0.98360656, 0.95081967, 0.90163934, 0.8852459 , 0.95081967, 0.88333333]\n",
    "PrunVal= [0.85245902, 0.85245902, 0.90163934, 0.91803279, 0.95081967, 0.85245902, 0.85245902, 0.78688525, 0.95081967, 0.78333333]"
   ]
  },
  {
   "cell_type": "code",
   "execution_count": null,
   "id": "08d44c9b",
   "metadata": {},
   "outputs": [],
   "source": [
    "foldLabels = [\"1st Fold\", \"2nd Fold\", \"3rd Fold\", \"4th Fold\", \"5th Fold\", \"6th Fold\", \"7th Fold\", \"8th Fold\", \"9th Fold\", \"10th Fold\"]"
   ]
  },
  {
   "cell_type": "code",
   "execution_count": null,
   "id": "157dd397",
   "metadata": {},
   "outputs": [],
   "source": [
    "decData = {\n",
    "    'Fold': foldLabels,\n",
    "    'Not Pruned Training': UnPrunTrain,\n",
    "    'Pruned Training': PrunTrain,\n",
    "    'Not Pruned Validation': UnprunVal,\n",
    "    'Pruned Validation': PrunVal\n",
    "}\n",
    "\n",
    "dec = pd.DataFrame(decData)"
   ]
  },
  {
   "cell_type": "code",
   "execution_count": null,
   "id": "ab808f1d",
   "metadata": {},
   "outputs": [],
   "source": [
    "f, axs = plt.subplots(2, figsize = (10,6), sharex=True, sharey=True)\n",
    "sns.barplot(data=dec, x=\"Fold\",y=\"Not Pruned Training\",hue='Model', ax = axs[0])\n",
    "sns.scatterplot(data=df, x=\"Fold\",y=\"Accuracy\", hue=\"Model\", ax = axs[0], legend = False)\n",
    "axs[0].set_ylabel('Validation Score')\n",
    "axs[0].set_xlabel('Fold Number')\n",
    "axs[0].set_xticklabels(labels = fold, rotation=45)\n",
    "axs[0].set_title('Accuracy Score')\n",
    "\n",
    "sns.lineplot(data=df, x=\"Fold\",y=\"F1\", hue=\"Model\", ax = axs[1], legend = False)\n",
    "sns.scatterplot(data=df, x=\"Fold\",y=\"F1\", hue=\"Model\", ax = axs[1], legend = False)\n",
    "axs[1].set_ylabel('F1 Score')\n",
    "axs[1].set_xlabel('Fold Number')\n",
    "axs[1].set_xticklabels(labels = fold, rotation=45)\n",
    "axs[1].set_title('F1Score')\n",
    "\n",
    "f.suptitle(\"Accuracy and F1 Score For All Models Across 10 Folds\", fontsize = 16, fontweight = 'bold', y = 0.99)\n",
    "\n",
    "plt.show()"
   ]
  },
  {
   "cell_type": "code",
   "execution_count": null,
   "id": "4389a62a",
   "metadata": {},
   "outputs": [],
   "source": [
    "X_Axis = np.arange(len(foldLabels))\n",
    "f, axs = plt.subplots(2, figsize = (20,20), sharex=True, sharey=True)\n",
    "ax = plt.gca()\n",
    "plt.xticks(X_Axis, foldLabels)\n",
    "axs[0].bar(X_Axis -0.2, decTreeResults[\"Training Accuracy scores\"], 0.4, color = 'cornflowerblue', label = 'Training')\n",
    "axs[0].bar(X_Axis +0.2, decTreeResults[\"Validation Accuracy scores\"], 0.4, color = 'coral', label = 'Validation')\n",
    "axs[0].set_ylim(0.40000, 1)\n",
    "axs[0].set_ylabel('Accuracy Score', fontsize = 18)\n",
    "axs[0].set_xticklabels(labels = foldLabels, rotation=45)\n",
    "axs[0].set_title('Accuracy Levels Before Pruning', fontsize = 30)\n",
    "axs[0].grid()\n",
    "axs[0].legend(prop = {'size': 16})\n",
    "\n",
    "\n",
    "axs[1].bar(X_Axis -0.2, decTreeResAlph[\"Training Accuracy scores\"], 0.4, color = 'cornflowerblue', label = 'Training')\n",
    "axs[1].bar(X_Axis +0.2, decTreeResAlph[\"Validation Accuracy scores\"], 0.4, color = 'coral', label = 'Validation')\n",
    "axs[1].set_ylim(0.40000, 1)\n",
    "axs[1].set_ylabel('Accuracy Score', fontsize = 18)\n",
    "axs[1].set_xticklabels(labels = foldLabels, rotation=45, fontsize = 18)\n",
    "axs[1].set_title('Accuracy Levels After Pruning', fontsize = 30)\n",
    "axs[1].grid()\n",
    "axs[1].set_xlabel('Fold Number', fontsize = 18)\n",
    "\n",
    "f.suptitle(\"Training and Validation Accuracy in an UnPruned and Pruned Decision Tree\", fontsize = 32, fontweight = 'bold', y = 0.94)\n",
    "plt.savefig('barcomparison.png')\n",
    "plt.show()\n"
   ]
  },
  {
   "cell_type": "markdown",
   "id": "0b8984c4",
   "metadata": {},
   "source": [
    "## Random Forests"
   ]
  },
  {
   "cell_type": "code",
   "execution_count": null,
   "id": "8b60ed21",
   "metadata": {},
   "outputs": [],
   "source": [
    "random.seed(704)"
   ]
  },
  {
   "cell_type": "code",
   "execution_count": null,
   "id": "dbab49e8",
   "metadata": {},
   "outputs": [],
   "source": [
    "#Optimise the forest\n",
    "#No. trees\n",
    "n_estimators = [int(x) for x in np.linspace (start = 50, stop = 300, num = 10)]\n",
    "#No. features to consider every split\n",
    "max_features = ['auto', 'sqrt']\n",
    "#Mac no. levels in tree\n",
    "max_depth = [int(x) for x in np.linspace (10, 110, num = 11)]\n",
    "max_depth.append(None)\n",
    "#min no. samples required to split node\n",
    "min_samples_split = [2,5,10]\n",
    "#min no. samples at each leaf node\n",
    "min_samples_leaf = [1, 2, 4]\n",
    "#Method of selecting samples for training each tree\n",
    "bootstrap = [True, False]\n",
    "\n",
    "#Create grid\n",
    "ran_grid = {'n_estimators': n_estimators,\n",
    "           'max_features': max_features,\n",
    "           'max_depth': max_depth,\n",
    "           'min_samples_split': min_samples_split,\n",
    "           'min_samples_leaf': min_samples_leaf,\n",
    "           'bootstrap': bootstrap}"
   ]
  },
  {
   "cell_type": "code",
   "execution_count": null,
   "id": "13dd1989",
   "metadata": {},
   "outputs": [],
   "source": [
    "random.seed(704)\n",
    "gscvran = GridSearchCV(estimator = RandomForestClassifier(), param_grid = ran_grid)\n",
    "gscvran.fit(crossX, crossY)"
   ]
  },
  {
   "cell_type": "code",
   "execution_count": null,
   "id": "8df33f5c",
   "metadata": {},
   "outputs": [],
   "source": [
    "print(gscvran.best_score_)\n",
    "print(gscvran.best_params_)"
   ]
  },
  {
   "cell_type": "code",
   "execution_count": null,
   "id": "441656de",
   "metadata": {},
   "outputs": [],
   "source": [
    "random.seed(704)\n",
    "gridTree = RandomForestClassifier(n_estimators=70, max_depth = 5, min_samples_leaf = 1,\n",
    "                                 min_samples_split = 2, criterion = 'gini')\n",
    "gridTreeRes = cross_validation(gridTree, crossX, crossY, 10)\n",
    "gridTreeRes"
   ]
  },
  {
   "cell_type": "code",
   "execution_count": null,
   "id": "8d26c8d4",
   "metadata": {},
   "outputs": [],
   "source": [
    "plot_result(\"Optimised Tree\", \"Accuracy\", \"Accuracy scores in 10-folds\",\n",
    "           gridTreeRes[\"Training Accuracy scores\"],\n",
    "           gridTreeRes[\"Validation Accuracy scores\"])"
   ]
  },
  {
   "cell_type": "markdown",
   "id": "34b44dec",
   "metadata": {},
   "source": [
    "## Neural Network"
   ]
  },
  {
   "cell_type": "code",
   "execution_count": null,
   "id": "207aa606",
   "metadata": {},
   "outputs": [],
   "source": [
    "#Function to vary number of nodes\n",
    "def FindLayersLinear(n_layers, first_layer_nodes, last_layer_nodes):\n",
    "    layers = []\n",
    "    nodes_increment = (last_layer_nodes - first_layer_nodes)/ (n_layers-1)\n",
    "    nodes = first_layer_nodes\n",
    "    for i in range(1,n_layers+1):\n",
    "        layers.append(math.ceil(nodes))\n",
    "        nodes = nodes + nodes_increment\n",
    "    return layers\n",
    "\n",
    "FindLayersLinear(3,45,3)"
   ]
  },
  {
   "cell_type": "code",
   "execution_count": null,
   "id": "50d61ecb",
   "metadata": {},
   "outputs": [],
   "source": [
    "### Function to change tensortflow model parameters\n",
    "def createmodel(n_layers, first_layer_nodes, last_layer_nodes, activation_func, loss_func):\n",
    "    model = Sequential()\n",
    "    n_nodes = FindLayersLinear(n_layers, first_layer_nodes, last_layer_nodes)\n",
    "    for i in range(1, n_layers):\n",
    "        if i ==1:\n",
    "            model.add(Dense(first_layer_nodes, input_dim=trainFeatures.shape[1], activation=activation_func))\n",
    "        else:\n",
    "            model.add(Dense(n_nodes[i-1], activation=activation_func))\n",
    "    #Output layer for binary classification have single node\n",
    "    model.add(Dense(1, activation=activation_func))\n",
    "    model.compile(optimizer = 'adam', loss=loss_func, metrics = [\"accuracy\"])\n",
    "    \n",
    "    return model\n",
    "\n",
    "#Wrap into scikit-learn\n",
    "model = KerasClassifier(build_fn = createmodel, verbose=False)"
   ]
  },
  {
   "cell_type": "code",
   "execution_count": null,
   "id": "e87041eb",
   "metadata": {},
   "outputs": [],
   "source": [
    "#Functions for changing model parameters\n",
    "activation_funcs = ['sigmoid', 'relu', 'tanh']\n",
    "loss_funcs = ['binary_crossentropy', 'hinge']\n",
    "param_grid = dict(n_layers=[1,2,3], first_layer_nodes=[45,30,15], last_layer_nodes = [3], activation_func = activation_funcs, loss_func = loss_funcs, batch_size=[100], epochs = [20,150])\n",
    "grid = GridSearchCV(estimator = model, param_grid = param_grid)"
   ]
  },
  {
   "cell_type": "code",
   "execution_count": null,
   "id": "48e570c5",
   "metadata": {},
   "outputs": [],
   "source": [
    "random.seed(704)\n",
    "#Fit Grid Object With Data\n",
    "grid.fit(crossX,crossY)"
   ]
  },
  {
   "cell_type": "code",
   "execution_count": null,
   "id": "b84d1858",
   "metadata": {},
   "outputs": [],
   "source": [
    "print(grid.best_score_)\n",
    "print(grid.best_params_)"
   ]
  },
  {
   "cell_type": "code",
   "execution_count": null,
   "id": "11b34f21",
   "metadata": {},
   "outputs": [],
   "source": [
    "def plot_loss(modelFit):\n",
    "    plt.plot(modelFit.history['loss'], label = 'loss')\n",
    "    plt.plot(modelFit.history['val_loss'], label = 'val_loss')\n",
    "    plt.xlabel('Epoch')\n",
    "    plt.ylabel('Error [class]')\n",
    "    plt.legend()\n",
    "    plt.grid(True)"
   ]
  },
  {
   "cell_type": "code",
   "execution_count": null,
   "id": "d6342898",
   "metadata": {},
   "outputs": [],
   "source": [
    "random.seed(704)\n",
    "asdSeqModel2 = tf.keras.Sequential([\n",
    "    tf.keras.Input(shape=(42,)),\n",
    "    layers.Dense(45, activation = 'relu'),\n",
    "    layers.Dropout(0.5),\n",
    "    layers.Dense(45, activation = 'relu'),\n",
    "    layers.Dropout(0.5),\n",
    "    layers.Dense(45, activation = 'relu'),\n",
    "    layers.Dropout(0.5),\n",
    "    layers.Dense(1, activation = 'sigmoid')\n",
    "])\n",
    "asdSeqModel2.compile(loss = 'binary_crossentropy', optimizer = 'adam', metrics = ['accuracy'])\n"
   ]
  },
  {
   "cell_type": "code",
   "execution_count": null,
   "id": "d2a597b9",
   "metadata": {},
   "outputs": [],
   "source": [
    "%%time\n",
    "modelFit2 = asdSeqModel2.fit(\n",
    "    trainFeatures,\n",
    "    trainLabels,\n",
    "    epochs = 80,\n",
    "    verbose = 0,\n",
    "    validation_split = 0.2)\n",
    "\n",
    "#Visulaise training progress\n",
    "hist2 = pd.DataFrame(modelFit2.history)\n",
    "hist2['epoch'] = modelFit2.epoch\n",
    "hist2.tail()"
   ]
  },
  {
   "cell_type": "code",
   "execution_count": null,
   "id": "6520c80c",
   "metadata": {},
   "outputs": [],
   "source": [
    "plot_loss(modelFit2)\n",
    "plt.savefig('trainingcurve')"
   ]
  },
  {
   "cell_type": "code",
   "execution_count": null,
   "id": "a74621d4",
   "metadata": {},
   "outputs": [],
   "source": [
    "def get_f1(y_true, y_pred): #taken from old keras source code\n",
    "    true_positives = K.sum(K.round(K.clip(y_true * y_pred, 0, 1)))\n",
    "    possible_positives = K.sum(K.round(K.clip(y_true, 0, 1)))\n",
    "    predicted_positives = K.sum(K.round(K.clip(y_pred, 0, 1)))\n",
    "    precision = true_positives / (predicted_positives + K.epsilon())\n",
    "    recall = true_positives / (possible_positives + K.epsilon())\n",
    "    f1_val = 2*(precision*recall)/(precision+recall+K.epsilon())\n",
    "    return f1_val\n",
    "\n",
    "\n",
    "def create_model():\n",
    "    model = tf.keras.Sequential([\n",
    "        tf.keras.Input(shape=(42,)),\n",
    "        layers.Dense(45, activation = 'relu'),\n",
    "        layers.Dropout(0.5),\n",
    "        layers.Dense(45, activation = 'relu'),\n",
    "        layers.Dropout(0.5),\n",
    "        layers.Dense(45, activation = 'relu'),\n",
    "        layers.Dropout(0.5),\n",
    "        layers.Dense(1, activation = 'sigmoid')\n",
    "    ])\n",
    "\n",
    "    model.compile(loss = 'binary_crossentropy', optimizer = 'adam', metrics = [get_f1, 'accuracy'])\n",
    "\n",
    "    return model"
   ]
  },
  {
   "cell_type": "code",
   "execution_count": null,
   "id": "79c3aac5",
   "metadata": {},
   "outputs": [],
   "source": [
    "random.seed(704)\n",
    "#Fold Dataset and Train Model\n",
    "#No. Folds\n",
    "n_split = 10\n",
    "\n",
    "loss = []\n",
    "accuracy = []\n",
    "validationLoss = []\n",
    "validationAccuracy = []\n",
    "validationF1 = []\n",
    "\n",
    "for train_index, test_index in KFold(n_split).split(crossX):\n",
    "    x_train, x_test = crossX[train_index], crossX[test_index]\n",
    "    y_train, y_test = crossY[train_index], crossY[test_index]\n",
    "    \n",
    "    model = create_model()\n",
    "    hist = model.fit(x_train, y_train, validation_split=0.2, epochs = 80, verbose = 0)\n",
    "    \n",
    "    loss.append(hist.history['loss'])\n",
    "    accuracy.append(hist.history['accuracy'])\n",
    "    validationLoss.append(hist.history['val_loss'])\n",
    "    validationAccuracy.append(hist.history['val_accuracy'])\n",
    "    validationF1.append(hist.history['get_f1'])\n",
    "    print('Model Evaluation ', model.evaluate(x_test,y_test))"
   ]
  },
  {
   "cell_type": "code",
   "execution_count": null,
   "id": "4d07375b",
   "metadata": {},
   "outputs": [],
   "source": [
    "loss = [sum(subList) / len(subList) for subList in loss]\n",
    "accuracy = [sum(subList) / len(subList) for subList in accuracy]\n",
    "validationLoss = [sum(subList) / len(subList) for subList in validationLoss]\n",
    "validationAccuracy = [sum(subList) / len(subList) for subList in validationAccuracy]"
   ]
  },
  {
   "cell_type": "code",
   "execution_count": null,
   "id": "1e3f1b62",
   "metadata": {},
   "outputs": [],
   "source": [
    "validationF1 = [sum(subList) / len(subList) for subList in validationF1]"
   ]
  },
  {
   "cell_type": "code",
   "execution_count": null,
   "id": "05610e28",
   "metadata": {},
   "outputs": [],
   "source": [
    "plot_result(\"Sequential Neural Network\", \"Accuracy\", \"Accuracy scores in 10-folds\",\n",
    "           accuracy,\n",
    "           validationAccuracy)"
   ]
  },
  {
   "cell_type": "markdown",
   "id": "2871f433",
   "metadata": {},
   "source": [
    "## Results"
   ]
  },
  {
   "cell_type": "code",
   "execution_count": null,
   "id": "5d9f8de4",
   "metadata": {},
   "outputs": [],
   "source": [
    "decTreeResults[\"Training Accuracy scores\"]"
   ]
  },
  {
   "cell_type": "code",
   "execution_count": null,
   "id": "b9567414",
   "metadata": {},
   "outputs": [],
   "source": [
    "fold = [\"1st Fold\", \"2nd Fold\", \"3rd Fold\", \"4th Fold\", \"5th Fold\", \"6th Fold\", \"7th Fold\", \"8th Fold\", \"9th Fold\", \"10th Fold\",\n",
    "        \"1st Fold\", \"2nd Fold\", \"3rd Fold\", \"4th Fold\", \"5th Fold\", \"6th Fold\", \"7th Fold\", \"8th Fold\", \"9th Fold\", \"10th Fold\",\n",
    "        \"1st Fold\", \"2nd Fold\", \"3rd Fold\", \"4th Fold\", \"5th Fold\", \"6th Fold\", \"7th Fold\", \"8th Fold\", \"9th Fold\", \"10th Fold\",]\n",
    "\n",
    "model = [\"Decision Tree\", \"Decision Tree\", \"Decision Tree\", \"Decision Tree\", \"Decision Tree\", \"Decision Tree\", \"Decision Tree\", \"Decision Tree\", \"Decision Tree\", \"Decision Tree\",\n",
    "        \"Random Forests\", \"Random Forests\", \"Random Forests\", \"Random Forests\", \"Random Forests\", \"Random Forests\", \"Random Forests\", \"Random Forests\", \"Random Forests\", \"Random Forests\",\n",
    "        \"Sequential Network\", \"Sequential Network\", \"Sequential Network\", \"Sequential Network\", \"Sequential Network\", \"Sequential Network\", \"Sequential Network\", \"Sequential Network\", \"Sequential Network\", \"Sequential Network\"]\n",
    "\n",
    "valAcc = [0.90163934, 0.91803279, 0.86885246, 0.96721311, 0.95081967, 0.90163934, 0.8852459, 0.8852459, 0.96721311, 0.86666667,\n",
    "          0.96721311, 0.93442623, 0.95081967, 0.93442623, 0.98360656, 0.91803279, 0.90163934, 0.86885246, 0.96721311, 0.81666667,\n",
    "          0.9712500050663948, 0.9596590913832188,0.9688636481761932,0.9815909147262574,0.9656818218529224,0.982954553514719,0.9781818233430386,0.9090909130871296,0.8930681683123112,0.913068202137947]\n",
    "\n",
    "f1Score = [0.85, 0.84848485, 0.78947368, 0.94444444, 0.90909091, 0.83333333, 0.78787879, 0.82926829, 0.94444444, 0.73333333,\n",
    "           0.94444444, 0.88235294, 0.91428571, 0.875, 0.97142857, 0.84848485, 0.82352941, 0.8, 0.94444444, 0.56,\n",
    "           0.9137816399335861, 0.9133445382118225, 0.9041821813210845, 0.9311458569020032, 0.9105896070599556, 0.8897312300279736, 0.9122078403830528,0.9253039043396711,0.9122180918231606,0.9262904550880193]"
   ]
  },
  {
   "cell_type": "code",
   "execution_count": null,
   "id": "1d231d49",
   "metadata": {},
   "outputs": [],
   "source": [
    "#A line graph of all models accuracy and f1 scores accross the 10 folds\n",
    "data = {\n",
    "    'Fold': fold,\n",
    "    'Model': model,\n",
    "    'Accuracy': valAcc,\n",
    "    'F1': f1Score\n",
    "}\n",
    "\n",
    "df = pd.DataFrame(data)"
   ]
  },
  {
   "cell_type": "code",
   "execution_count": null,
   "id": "2265e0e2",
   "metadata": {
    "scrolled": true
   },
   "outputs": [],
   "source": [
    "sns.set_style(\"darkgrid\")\n",
    "sns.lineplot(data=df, x=\"Fold\",y=\"Accuracy\", hue=\"Model\")\n",
    "sns.scatterplot(data=df, x=\"Fold\",y=\"Accuracy\", hue=\"Model\", legend = False)\n",
    "plt.ylim(0.5, 1)\n",
    "plt.xlabel('Fold Number')\n",
    "plt.ylabel('Validation Accuracy')\n",
    "plt.xticks(rotation=45)\n",
    "plt.title(\"The Validation Accuracy of Each Model Across 10-Validation Folds\", pad = 20, fontweight = 'bold', fontsize =14)\n",
    "plt.show()"
   ]
  },
  {
   "cell_type": "code",
   "execution_count": null,
   "id": "87f8e14f",
   "metadata": {},
   "outputs": [],
   "source": [
    "sns.set_style(\"darkgrid\")\n",
    "sns.lineplot(data=df, x=\"Fold\",y=\"F1\", hue=\"Model\")\n",
    "sns.scatterplot(data=df, x=\"Fold\",y=\"F1\", hue=\"Model\", legend = False)\n",
    "plt.ylim(0.5, 1)\n",
    "plt.xlabel('Fold Number')\n",
    "plt.ylabel('Validation F1 Score')\n",
    "plt.xticks(rotation=45)\n",
    "plt.title(\"The F1 Score of Each Model Across 10-Validation Folds\", pad = 20, fontweight = 'bold', fontsize =14)\n",
    "plt.show()"
   ]
  },
  {
   "cell_type": "code",
   "execution_count": null,
   "id": "65c86b68",
   "metadata": {},
   "outputs": [],
   "source": [
    "f, axs = plt.subplots(2, figsize = (10,6), sharex=True, sharey=True)\n",
    "sns.lineplot(data=df, x=\"Fold\",y=\"Accuracy\", hue=\"Model\", ax = axs[0])\n",
    "sns.scatterplot(data=df, x=\"Fold\",y=\"Accuracy\", hue=\"Model\", ax = axs[0], legend = False)\n",
    "axs[0].set_ylabel('Validation Score')\n",
    "axs[0].set_xlabel('Fold Number')\n",
    "axs[0].set_xticklabels(labels = fold, rotation=45)\n",
    "axs[0].set_title('Accuracy Score')\n",
    "\n",
    "sns.lineplot(data=df, x=\"Fold\",y=\"F1\", hue=\"Model\", ax = axs[1], legend = False)\n",
    "sns.scatterplot(data=df, x=\"Fold\",y=\"F1\", hue=\"Model\", ax = axs[1], legend = False)\n",
    "axs[1].set_ylabel('F1 Score')\n",
    "axs[1].set_xlabel('Fold Number')\n",
    "axs[1].set_xticklabels(labels = fold, rotation=45)\n",
    "axs[1].set_title('F1Score')\n",
    "\n",
    "f.suptitle(\"Accuracy and F1 Score For All Models Across 10 Folds\", fontsize = 16, fontweight = 'bold', y = 0.99)\n",
    "\n",
    "plt.savefig('modelLines')\n",
    "plt.show()"
   ]
  },
  {
   "cell_type": "code",
   "execution_count": null,
   "id": "f352f969",
   "metadata": {},
   "outputs": [],
   "source": [
    "sum(validationAccuracy)/ len(validationAccuracy)"
   ]
  }
 ],
 "metadata": {
  "kernelspec": {
   "display_name": "Python 3 (ipykernel)",
   "language": "python",
   "name": "python3"
  },
  "language_info": {
   "codemirror_mode": {
    "name": "ipython",
    "version": 3
   },
   "file_extension": ".py",
   "mimetype": "text/x-python",
   "name": "python",
   "nbconvert_exporter": "python",
   "pygments_lexer": "ipython3",
   "version": "3.9.16"
  }
 },
 "nbformat": 4,
 "nbformat_minor": 5
}
